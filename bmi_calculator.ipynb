{
 "cells": [
  {
   "cell_type": "code",
   "execution_count": 6,
   "metadata": {},
   "outputs": [
    {
     "name": "stdout",
     "output_type": "stream",
     "text": [
      "First Name: Esoh\n",
      "Last Name: Kev\n",
      "Please enter your height (in metres e.g 1.75): 1.80\n",
      "Please provide your weight (in kgs e.g 75): 75\n",
      "Are you a heavy weight lifter? [yes/no]: yes\n",
      " \n",
      "\n",
      "Hello Esoh KEV\n",
      "\n",
      "You are 1.80m tall. You weigh 75.00Kg, and your BMI is 23.15kg/m^2\n",
      " \n",
      "Awesome! You are just fine! Keep up the good living.\n"
     ]
    }
   ],
   "source": [
    "#BMI Calculator\n",
    "firstName = input(\"First Name: \")\n",
    "lastName = input(\"Last Name: \")\n",
    "lastName = lastName.capitalize()\n",
    "height = float(input(\"Please enter your height (in metres e.g 1.75): \"))\n",
    "weight = float(input(\"Please provide your weight (in kgs e.g 75): \"))\n",
    "bmi = weight / height**2\n",
    "status = input(\"Are you a heavy weight lifter? [yes/no]: \")\n",
    "status = status.lower()\n",
    "print(\" \")\n",
    "print(\"\\nHello \" + \\\n",
    "      firstName + \\\n",
    "      \" \" + \\\n",
    "      lastName.upper() + \\\n",
    "      \"\\n\\nYou are {0:.2f}m tall. You weigh {1:.2f}Kg, and your BMI is {2:.2f}kg/m^2\".format(height,weight,bmi))\n",
    "\n",
    "print(\" \")\n",
    "if status == \"yes\":\n",
    "    if bmi < 18:\n",
    "        print(\"You are underweight. Please up your diet or see a nutritionist.\")\n",
    "    elif 18 < bmi <= 25:\n",
    "        print(\"Awesome! You are just fine! Keep up the good living.\")\n",
    "    elif 25 < bmi < 30:\n",
    "        print(\"You are overweight. However no fears for a weight lifter like you.\")\n",
    "    elif bmi >= 30:\n",
    "        print(\"You are obese! Well no worries cos you are a weight lifter :).\")\n",
    "elif status == \"no\":\n",
    "    if bmi < 18:\n",
    "        print(\"You are underweight. Please up your diet or see a nutritionist.\")\n",
    "    elif 18 < bmi <= 25:\n",
    "        print(\"Awesome! You are just fine! Keep up the good diet.\")\n",
    "    elif 25 < bmi < 30:\n",
    "        print(\"You are overweight. Please watch your diet and consider exercises.\")\n",
    "    elif bmi >= 30:\n",
    "        print(\"You are obese! Please visit a nutritionist and consider exercises!\")\n"
   ]
  },
  {
   "cell_type": "code",
   "execution_count": null,
   "metadata": {},
   "outputs": [],
   "source": []
  }
 ],
 "metadata": {
  "kernelspec": {
   "display_name": "Python 3",
   "language": "python",
   "name": "python3"
  },
  "language_info": {
   "codemirror_mode": {
    "name": "ipython",
    "version": 3
   },
   "file_extension": ".py",
   "mimetype": "text/x-python",
   "name": "python",
   "nbconvert_exporter": "python",
   "pygments_lexer": "ipython3",
   "version": "3.5.6"
  }
 },
 "nbformat": 4,
 "nbformat_minor": 2
}
