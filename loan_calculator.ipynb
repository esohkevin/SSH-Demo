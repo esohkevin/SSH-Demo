{
 "cells": [
  {
   "cell_type": "code",
   "execution_count": 2,
   "metadata": {},
   "outputs": [
    {
     "name": "stdout",
     "output_type": "stream",
     "text": [
      "First Name: Esoh\n",
      "Last Name: Kev\n",
      "Please enter the cost of your loan: 8004\n",
      "What is your interest rate? 0.57\n",
      "How many years do you have for your loan? 5\n",
      " \n",
      "Hello Esoh Kev You should pay $5702.85 monthly if you are to fully repay your loan of $8004.00 on an interest rate of 57.00%\n"
     ]
    }
   ],
   "source": [
    "firstName = input(\"First Name: \")\n",
    "lastName = input(\"Last Name: \")\n",
    "lastName = lastName.capitalize()\n",
    "# Loan Calculator\n",
    "L = float(input(\"Please enter the cost of your loan: \"))\n",
    "i = float(input(\"What is your interest rate? \"))\n",
    "percentI = float(i*100)\n",
    "n = float(input(\"How many years do you have for your loan? \"))\n",
    "Monthly = float(L*(i*(1+i)*n)) / float((1+i)*(n-1))\n",
    "print(\" \")\n",
    "print(\"Hello \" + firstName + \" \" + lastName + \n",
    "      \" You should pay ${0:.2f} monthly if you are to fully repay your loan of ${1:.2f} on an interest rate of {2:.2f}%\".format(Monthly,L,percentI))\n"
   ]
  },
  {
   "cell_type": "code",
   "execution_count": null,
   "metadata": {},
   "outputs": [],
   "source": []
  }
 ],
 "metadata": {
  "kernelspec": {
   "display_name": "Python 3",
   "language": "python",
   "name": "python3"
  },
  "language_info": {
   "codemirror_mode": {
    "name": "ipython",
    "version": 3
   },
   "file_extension": ".py",
   "mimetype": "text/x-python",
   "name": "python",
   "nbconvert_exporter": "python",
   "pygments_lexer": "ipython3",
   "version": "3.5.6"
  }
 },
 "nbformat": 4,
 "nbformat_minor": 2
}
